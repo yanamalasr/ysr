{
 "cells": [
  {
   "cell_type": "markdown",
   "metadata": {},
   "source": [
    "#Introduction to Markdown\n",
    "\n",
    "###date:30 may 2019\n",
    "\n",
    "###session Objectives\n",
    "* To introduce **jupyter notebooks**\n",
    "* To teach markdown syntax\n",
    "* To introduce **python** basics \n",
    "  * basic syntax(variables,Assignment,Data Types)\n",
    "  * control Strucures\n",
    "    * conditional\n",
    "    * repetitive\n",
    "[link to Main Website](https://sites.google.com/view/svik501-python-may-2019/worklog/day-04)\n",
    "[link to markdown resources](https://github.com/adam-p/markdown-here/wiki/Markdown-Cheatsheet)"
   ]
  },
  {
   "cell_type": "markdown",
   "metadata": {},
   "source": [
    "###Python basic"
   ]
  },
  {
   "cell_type": "code",
   "execution_count": 1,
   "metadata": {},
   "outputs": [
    {
     "name": "stdout",
     "output_type": "stream",
     "text": [
      "hello world\n",
      "hello world,helloworld\n"
     ]
    }
   ],
   "source": [
    "print(\"hello world\")\n",
    "print(\"hello\",\"world\",end=\",\")\n",
    "print(\"hello\"+\"world\")\n"
   ]
  },
  {
   "cell_type": "code",
   "execution_count": null,
   "metadata": {},
   "outputs": [],
   "source": [
    "#this is acomment\n",
    "n1=input(\"enter a value n1\")\n",
    "n2=input(\"enter a value n2\")\n",
    "sum= int(n1) + int(n2)\n",
    "print(\"sum=\",sum)"
   ]
  },
  {
   "cell_type": "code",
   "execution_count": null,
   "metadata": {},
   "outputs": [],
   "source": [
    "a=b=7\n",
    "print(a)\n",
    "print(b)\n"
   ]
  },
  {
   "cell_type": "code",
   "execution_count": null,
   "metadata": {},
   "outputs": [],
   "source": [
    "n=input(\"enter a value\")\n",
    "n=int(n)\n",
    "n*n/12"
   ]
  },
  {
   "cell_type": "code",
   "execution_count": null,
   "metadata": {},
   "outputs": [],
   "source": [
    "n=int(input(\"enter a value\"))\n",
    "a = b = c = n\n",
    "print(a)\n",
    "print(b)\n",
    "print(c)"
   ]
  },
  {
   "cell_type": "code",
   "execution_count": null,
   "metadata": {},
   "outputs": [],
   "source": [
    "type(n)\n"
   ]
  },
  {
   "cell_type": "code",
   "execution_count": null,
   "metadata": {},
   "outputs": [],
   "source": [
    "d,e,f=2,4,8\n",
    "print(d,type(d),float(e),f)"
   ]
  },
  {
   "cell_type": "markdown",
   "metadata": {},
   "source": [
    "\n",
    "##### String Slicing"
   ]
  },
  {
   "cell_type": "code",
   "execution_count": null,
   "metadata": {},
   "outputs": [],
   "source": [
    "s1 = 'python programming'\n",
    "s1[0:6]\n",
    "s1[7:]\n",
    "s1[7:len(s1)]\n",
    "s1[:6]\n",
    "s1[::-1]\n",
    "s1[6::-1]\n",
    "s1[len(s1):6:-1]"
   ]
  },
  {
   "cell_type": "code",
   "execution_count": null,
   "metadata": {},
   "outputs": [],
   "source": [
    "s2='123456789'\n",
    "s2[5:2:-1]"
   ]
  },
  {
   "cell_type": "code",
   "execution_count": null,
   "metadata": {},
   "outputs": [],
   "source": [
    "s2[0::2]"
   ]
  },
  {
   "cell_type": "code",
   "execution_count": null,
   "metadata": {},
   "outputs": [],
   "source": [
    "s2[1::2]"
   ]
  },
  {
   "cell_type": "code",
   "execution_count": null,
   "metadata": {},
   "outputs": [],
   "source": [
    "s2[-1::-2]"
   ]
  },
  {
   "cell_type": "markdown",
   "metadata": {},
   "source": [
    " ##### functions"
   ]
  },
  {
   "cell_type": "code",
   "execution_count": null,
   "metadata": {},
   "outputs": [],
   "source": [
    "# function reverse a string\n",
    " def reverseString(s):\n",
    "    return s[-1::-1]\n",
    "str=input(\"enter the string\")\n",
    "print(reverseString(str))"
   ]
  },
  {
   "cell_type": "code",
   "execution_count": null,
   "metadata": {},
   "outputs": [],
   "source": [
    "#function to revese a substring\n",
    "def reverseSubstring(s,i,j):\n",
    "    return s[j:i:-1]\n",
    "reverseSubstring('abcde',0,2)"
   ]
  },
  {
   "cell_type": "markdown",
   "metadata": {},
   "source": [
    " ##### conditional statments"
   ]
  },
  {
   "cell_type": "code",
   "execution_count": null,
   "metadata": {},
   "outputs": [],
   "source": [
    "# Function to test divisibility by 9 and 11 and 10\n",
    "def divisibilityTest(n):\n",
    "    if n %9 == 0 and n%11 == 0 and n%10 != 0 :\n",
    "        return True\n",
    "    else:\n",
    "        return False\n",
    "divisibilityTest(99)"
   ]
  },
  {
   "cell_type": "code",
   "execution_count": null,
   "metadata": {},
   "outputs": [],
   "source": [
    "def factorial1(n):\n",
    "    if (n == 0 or n == 1):\n",
    "        return 1\n",
    "    else:\n",
    "        return n * factorial1(n - 1)\n",
    "print(factorial1(5))"
   ]
  },
  {
   "cell_type": "code",
   "execution_count": null,
   "metadata": {},
   "outputs": [],
   "source": [
    "def palindrome(str):\n",
    "    str1=str \n",
    "    str=str[-1::-1]\n",
    "    print(str)\n",
    "    print(str1)\n",
    "    if(str1==str):\n",
    "        print(\"the given string is a palindrome\")\n",
    "    else:\n",
    "        print(\"the given string is a palindrome\")\n",
    "palindrome(\"tasdf\")"
   ]
  },
  {
   "cell_type": "markdown",
   "metadata": {},
   "source": [
    "#### Iteration in python"
   ]
  },
  {
   "cell_type": "code",
   "execution_count": null,
   "metadata": {},
   "outputs": [],
   "source": [
    "for i in range(1,10):\n",
    "    print(i)"
   ]
  },
  {
   "cell_type": "code",
   "execution_count": null,
   "metadata": {},
   "outputs": [],
   "source": [
    "def primeNumber(n):\n",
    "    count=0\n",
    "    i=2\n",
    "    while True:\n",
    "        flag=0\n",
    "        for j in range(2,i):\n",
    "            if(i%j==0):\n",
    "                flag=1\n",
    "                break\n",
    "        if(flag==0):\n",
    "            print(i,end=' ')\n",
    "            count+=1\n",
    "        if(count==n):\n",
    "            break\n",
    "        i=i+1\n",
    "            \n",
    "primeNumber(10)        "
   ]
  },
  {
   "cell_type": "markdown",
   "metadata": {},
   "source": [
    "####Higher Order Computation "
   ]
  },
  {
   "cell_type": "code",
   "execution_count": null,
   "metadata": {},
   "outputs": [],
   "source": [
    "num = 987 ** 987\n",
    "print(type(num))\n",
    "len(str(num))"
   ]
  },
  {
   "cell_type": "markdown",
   "metadata": {},
   "source": [
    "#####python List"
   ]
  },
  {
   "cell_type": "code",
   "execution_count": null,
   "metadata": {},
   "outputs": [],
   "source": [
    "li=[1,2,3,4,5,6,'python',5.8]\n",
    "\n",
    "li.append([34,67,89])\n",
    "li.remove(5.8)\n",
    "\n",
    "li"
   ]
  },
  {
   "cell_type": "code",
   "execution_count": null,
   "metadata": {},
   "outputs": [],
   "source": []
  },
  {
   "cell_type": "code",
   "execution_count": null,
   "metadata": {},
   "outputs": [],
   "source": []
  }
 ],
 "metadata": {
  "kernelspec": {
   "display_name": "Python 3",
   "language": "python",
   "name": "python3"
  },
  "language_info": {
   "codemirror_mode": {
    "name": "ipython",
    "version": 3
   },
   "file_extension": ".py",
   "mimetype": "text/x-python",
   "name": "python",
   "nbconvert_exporter": "python",
   "pygments_lexer": "ipython3",
   "version": "3.7.3"
  }
 },
 "nbformat": 4,
 "nbformat_minor": 2
}
